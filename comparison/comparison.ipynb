{
 "cells": [
  {
   "cell_type": "code",
   "execution_count": 7,
   "metadata": {
    "ExecuteTime": {
     "end_time": "2020-05-31T18:12:09.638786Z",
     "start_time": "2020-05-31T18:12:07.923815Z"
    }
   },
   "outputs": [
    {
     "ename": "FileNotFoundError",
     "evalue": "[Errno 2] No such file or directory: '../images/png/DDQN_scene3_lr00000800_struct500-700_400-400_600-700_eps7500_QLEARNING_ep7500-10.png'",
     "output_type": "error",
     "traceback": [
      "\u001b[1;31m---------------------------------------------------------------------------\u001b[0m",
      "\u001b[1;31mFileNotFoundError\u001b[0m                         Traceback (most recent call last)",
      "\u001b[1;32m<ipython-input-7-2a11f4e86ee9>\u001b[0m in \u001b[0;36m<module>\u001b[1;34m\u001b[0m\n\u001b[0;32m     22\u001b[0m \u001b[1;32mfor\u001b[0m \u001b[0mi\u001b[0m \u001b[1;32min\u001b[0m \u001b[0mrange\u001b[0m\u001b[1;33m(\u001b[0m\u001b[1;36m30\u001b[0m\u001b[1;33m)\u001b[0m\u001b[1;33m:\u001b[0m\u001b[1;33m\u001b[0m\u001b[0m\n\u001b[0;32m     23\u001b[0m     \u001b[0mstringa\u001b[0m \u001b[1;33m=\u001b[0m \u001b[1;34m'../images/png/DDQN_scene3_lr00000800_struct500-700_400-400_600-700_eps7500_QLEARNING_ep7500-'\u001b[0m \u001b[1;33m+\u001b[0m \u001b[0mstr\u001b[0m\u001b[1;33m(\u001b[0m\u001b[0mi\u001b[0m\u001b[1;33m)\u001b[0m \u001b[1;33m+\u001b[0m \u001b[1;34m'.png'\u001b[0m\u001b[1;33m\u001b[0m\u001b[0m\n\u001b[1;32m---> 24\u001b[1;33m     \u001b[0mimg\u001b[0m\u001b[1;33m.\u001b[0m\u001b[0mappend\u001b[0m\u001b[1;33m(\u001b[0m\u001b[1;33m(\u001b[0m\u001b[0mImage\u001b[0m\u001b[1;33m.\u001b[0m\u001b[0mopen\u001b[0m\u001b[1;33m(\u001b[0m\u001b[0mstringa\u001b[0m\u001b[1;33m)\u001b[0m\u001b[1;33m)\u001b[0m\u001b[1;33m.\u001b[0m\u001b[0mconvert\u001b[0m\u001b[1;33m(\u001b[0m\u001b[1;34m'RGB'\u001b[0m\u001b[1;33m)\u001b[0m\u001b[1;33m)\u001b[0m\u001b[1;33m\u001b[0m\u001b[0m\n\u001b[0m\u001b[0;32m     25\u001b[0m     \u001b[0mq_notequally_sized\u001b[0m\u001b[1;33m.\u001b[0m\u001b[0mappend\u001b[0m\u001b[1;33m(\u001b[0m\u001b[1;33m(\u001b[0m\u001b[0mcompare_ssim\u001b[0m\u001b[1;33m(\u001b[0m\u001b[0mref_array\u001b[0m\u001b[1;33m,\u001b[0m \u001b[0mnp\u001b[0m\u001b[1;33m.\u001b[0m\u001b[0marray\u001b[0m\u001b[1;33m(\u001b[0m\u001b[0mimg\u001b[0m\u001b[1;33m[\u001b[0m\u001b[0mi\u001b[0m\u001b[1;33m]\u001b[0m\u001b[1;33m)\u001b[0m\u001b[1;33m,\u001b[0m \u001b[0mmultichannel\u001b[0m \u001b[1;33m=\u001b[0m \u001b[1;32mTrue\u001b[0m\u001b[1;33m)\u001b[0m\u001b[1;33m)\u001b[0m\u001b[1;33m)\u001b[0m\u001b[1;33m\u001b[0m\u001b[0m\n\u001b[0;32m     26\u001b[0m \u001b[0mplt\u001b[0m\u001b[1;33m.\u001b[0m\u001b[0mplot\u001b[0m\u001b[1;33m(\u001b[0m\u001b[0mq_notequally_sized\u001b[0m\u001b[1;33m)\u001b[0m\u001b[1;33m\u001b[0m\u001b[0m\n",
      "\u001b[1;32mD:\\Anaconda3\\lib\\site-packages\\PIL\\Image.py\u001b[0m in \u001b[0;36mopen\u001b[1;34m(fp, mode)\u001b[0m\n\u001b[0;32m   2841\u001b[0m \u001b[1;33m\u001b[0m\u001b[0m\n\u001b[0;32m   2842\u001b[0m     \u001b[1;32mif\u001b[0m \u001b[0mfilename\u001b[0m\u001b[1;33m:\u001b[0m\u001b[1;33m\u001b[0m\u001b[0m\n\u001b[1;32m-> 2843\u001b[1;33m         \u001b[0mfp\u001b[0m \u001b[1;33m=\u001b[0m \u001b[0mbuiltins\u001b[0m\u001b[1;33m.\u001b[0m\u001b[0mopen\u001b[0m\u001b[1;33m(\u001b[0m\u001b[0mfilename\u001b[0m\u001b[1;33m,\u001b[0m \u001b[1;34m\"rb\"\u001b[0m\u001b[1;33m)\u001b[0m\u001b[1;33m\u001b[0m\u001b[0m\n\u001b[0m\u001b[0;32m   2844\u001b[0m         \u001b[0mexclusive_fp\u001b[0m \u001b[1;33m=\u001b[0m \u001b[1;32mTrue\u001b[0m\u001b[1;33m\u001b[0m\u001b[0m\n\u001b[0;32m   2845\u001b[0m \u001b[1;33m\u001b[0m\u001b[0m\n",
      "\u001b[1;31mFileNotFoundError\u001b[0m: [Errno 2] No such file or directory: '../images/png/DDQN_scene3_lr00000800_struct500-700_400-400_600-700_eps7500_QLEARNING_ep7500-10.png'"
     ]
    },
    {
     "data": {
      "image/png": "[encoded data removed]",
      "text/plain": [
       "<Figure size 432x288 with 1 Axes>"
      ]
     },
     "metadata": {
      "needs_background": "light"
     },
     "output_type": "display_data"
    }
   ],
   "source": [
    "from skimage.measure import compare_ssim, compare_mse\n",
    "from skimage import img_as_float\n",
    "from PIL import Image\n",
    "import numpy as np\n",
    "import matplotlib.pyplot as plt\n",
    "import warnings\n",
    "warnings.filterwarnings('ignore')\n",
    "\n",
    "ref = Image.open('../images/reference/reference_scene3_256x256_5120spp.png').convert(\"RGB\")\n",
    "ref_array = np.array(ref)\n",
    "\n",
    "img = []\n",
    "q_equally_sized = []\n",
    "for i in range(30):\n",
    "    stringa = '../images/png/DDQN_scene3_lr00000800_struct500-700_400-400_600-700_eps7500_QLEARNING_ep7500_equallysized-' + str(i) + '.png'\n",
    "    img.append((Image.open(stringa)).convert('RGB'))\n",
    "    q_equally_sized.append((compare_ssim(ref_array, np.array(img[i]), multichannel = True)))\n",
    "plt.plot(q_equally_sized)\n",
    "\n",
    "img = []\n",
    "q_notequally_sized = []\n",
    "for i in range(30):\n",
    "    stringa = '../images/png/DDQN_scene3_lr00000800_struct500-700_400-400_600-700_eps7500_QLEARNING_ep7500-' + str(i) + '.png'\n",
    "    img.append((Image.open(stringa)).convert('RGB'))\n",
    "    q_notequally_sized.append((compare_ssim(ref_array, np.array(img[i]), multichannel = True)))\n",
    "plt.plot(q_notequally_sized)\n",
    "\n",
    "plt.xlabel(\"SPP\",fontweight='bold', fontsize='large')\n",
    "plt.ylabel(\"SSIM\",fontweight='bold', fontsize='large')\n",
    "plt.legend([\"\"],bbox_to_anchor=(1.04, 1), loc='upper left', ncol=1)\n",
    "plt.show()\n",
    "\n",
    "############################################################################################################################################################################################################\n",
    "# MSE\n",
    "'''\n",
    "img = []\n",
    "mse_array_dqn = []\n",
    "for i in range(32):\n",
    "    stringa = 'py-smallpt3-10000L2000-72actions-lineareps-lr00001-1000nnx4-KERNEL16-targetnet-32spp-256-noisereduction-' + str(i) + '.png'\n",
    "    img.append(img_as_float((Image.open(stringa)).convert('RGB')))\n",
    "    mse_array_dqn.append((compare_mse(img_as_float(ref_array), img[i])))\n",
    "plt.plot(mse_array_dqn)\n",
    "\n",
    "\n",
    "plt.xlabel(\"SPP\",fontweight='bold', fontsize='large')\n",
    "plt.ylabel(\"MSE\",fontweight='bold', fontsize='large')\n",
    "plt.legend([\"Deep Q-Learning 1000\",\"Q-Learning\",\"Cosine\", \"Max Action 2\", \"Q-Learning new action\", \"DQN newAction maxAction lr000001\", \"DQN new action eps5000 lr00001\", \"DDQN eps5000 lr00001\",\"DDQN_struct4 lr00001\"],bbox_to_anchor=(1.04, 1), loc='upper left', ncol=1)\n",
    "\n",
    "#plt.legend([\"Deep Q-Learning 1000\",\"Deep Q-Learning 1500\",\"Q-Learning\",\"Cosine\", \"Deep Q-Learning Double Kernel\",\"Deep Q-Learning Double Kernel lr000001\", \"Sigmoid not all\", \"Decaying 1.8 0.00001\"],fontsize='large',bbox_to_anchor=(0, 1), loc='upper left', ncol=1)   \n",
    "#plt.savefig(\"scene3-mse.png\")\n",
    "plt.show()\n",
    "'''"
   ]
  }
 ],
 "metadata": {
  "kernelspec": {
   "display_name": "Python 3",
   "language": "python",
   "name": "python3"
  },
  "language_info": {
   "codemirror_mode": {
    "name": "ipython",
    "version": 3
   },
   "file_extension": ".py",
   "mimetype": "text/x-python",
   "name": "python",
   "nbconvert_exporter": "python",
   "pygments_lexer": "ipython3",
   "version": "3.6.5"
  }
 },
 "nbformat": 4,
 "nbformat_minor": 2
}
